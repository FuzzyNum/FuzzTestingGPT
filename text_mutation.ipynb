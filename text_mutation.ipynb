{
 "cells": [
  {
   "cell_type": "code",
   "execution_count": 1,
   "metadata": {},
   "outputs": [],
   "source": [
    "import sys\n",
    "sys.path.append(\"../../Library/Frameworks/Python.framework/Versions/3.11/lib/python3.11/site-packages\")"
   ]
  },
  {
   "cell_type": "code",
   "execution_count": 4,
   "metadata": {},
   "outputs": [],
   "source": [
    "class Dataset:\n",
    "    def __init__(self, data:dict):\n",
    "        self._data=data\n",
    "        self._original=data\n",
    "    def reset_data(self):\n",
    "        self.data=self.original\n",
    "    def keys(self):\n",
    "        return self._data.keys()\n",
    "    def values(self):\n",
    "        return self._data.values()\n",
    "    def items(self):\n",
    "        return self._data.items()"
   ]
  },
  {
   "cell_type": "code",
   "execution_count": 7,
   "metadata": {},
   "outputs": [],
   "source": [
    "strategy_labels={0:\"random\",1:\"single_word_syn\",2:\"n_word_syn\",3:\"single_word_ant\",4:\"n_word_ant\",5:\"misspell\",6:\"reorder\",7:\"addition\",8:\"deletion\"}\n",
    "strategy_ids={\"random\":0,\"single_word_syn\":1,\"n_word_syn\":2,\"single_word_ant\":3,\"n_word_ant\":4,\"misspell\":5,\"reorder\":6,\"addition\":7,\"deletion\":8}"
   ]
  },
  {
   "cell_type": "code",
   "execution_count": 8,
   "metadata": {},
   "outputs": [],
   "source": [
    "class MutagenDataset(Dataset):\n",
    "    def __init__(self, data:dict, mutations=[], strategy=\"random\"):\n",
    "        super().__init__(self, data)\n",
    "        self._mutations=mutations\n",
    "        self._strategy=strategy\n",
    "        self._stratid=strategy_ids[strategy]\n",
    "    def reset_data(self):\n",
    "        super().reset_data()\n",
    "        self._mutations=[]\n",
    "    def appendMutations(self,mutation:list):\n",
    "        self._mutations.append(mutation)"
   ]
  },
  {
   "cell_type": "code",
   "execution_count": null,
   "metadata": {},
   "outputs": [],
   "source": []
  },
  {
   "cell_type": "code",
   "execution_count": null,
   "metadata": {},
   "outputs": [],
   "source": []
  }
 ],
 "metadata": {
  "kernelspec": {
   "display_name": "Python 3",
   "language": "python",
   "name": "python3"
  },
  "language_info": {
   "codemirror_mode": {
    "name": "ipython",
    "version": 3
   },
   "file_extension": ".py",
   "mimetype": "text/x-python",
   "name": "python",
   "nbconvert_exporter": "python",
   "pygments_lexer": "ipython3",
   "version": "3.11.9"
  }
 },
 "nbformat": 4,
 "nbformat_minor": 2
}
