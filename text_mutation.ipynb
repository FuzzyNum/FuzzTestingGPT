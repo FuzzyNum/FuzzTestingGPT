{
 "cells": [
  {
   "cell_type": "code",
   "execution_count": 7,
   "metadata": {},
   "outputs": [],
   "source": [
    "import sys\n",
    "sys.path.append(\"../../Library/Frameworks/Python.framework/Versions/3.11/lib/python3.11/site-packages\")"
   ]
  },
  {
   "cell_type": "code",
   "execution_count": 8,
   "metadata": {},
   "outputs": [],
   "source": [
    "from Levenshtein import distance as lev"
   ]
  },
  {
   "cell_type": "code",
   "execution_count": 9,
   "metadata": {},
   "outputs": [],
   "source": [
    "class Dataset:\n",
    "    def __init__(self, data:dict):\n",
    "        self._data=data\n",
    "        self._original=data\n",
    "    def reset_data(self):\n",
    "        self.data=self.original\n",
    "    def keys(self):\n",
    "        return self._data.keys()\n",
    "    def values(self):\n",
    "        return self._data.values()\n",
    "    def items(self):\n",
    "        return self._data.items()"
   ]
  },
  {
   "cell_type": "code",
   "execution_count": 10,
   "metadata": {},
   "outputs": [],
   "source": [
    "strategy_labels={0:\"random\",1:\"single_word_syn\",2:\"n_word_syn\",3:\"single_word_ant\",4:\"n_word_ant\",5:\"misspell\",6:\"reorder\",7:\"addition\",8:\"deletion\"}\n",
    "strategy_ids={\"random\":0,\"single_word_syn\":1,\"n_word_syn\":2,\"single_word_ant\":3,\"n_word_ant\":4,\"misspell\":5,\"reorder\":6,\"addition\":7,\"deletion\":8}"
   ]
  },
  {
   "cell_type": "code",
   "execution_count": 15,
   "metadata": {},
   "outputs": [],
   "source": [
    "class MutagenDataset(Dataset):\n",
    "    def __init__(self, data:dict, operator:Operator, mutations=[], strategy=\"random\"):\n",
    "        super().__init__(data)\n",
    "        self._mutations=mutations\n",
    "        self._strategy=strategy\n",
    "        self._stratid=strategy_ids[strategy]\n",
    "        self._operator=operator\n",
    "    def reset_data(self):\n",
    "        super().reset_data()\n",
    "        self._mutations=[]\n",
    "    def appendMutations(self,mutation:list):\n",
    "        self._mutations.append(mutation)\n",
    "    def computeLevenshtein(self):\n",
    "        distances=[]\n",
    "        for i in range(0,len(self._data)):\n",
    "            distances.append(lev(self._original[i],self._data[i]))\n",
    "        average_dist=sum(distances)/len(self._data)\n",
    "        return distances,average_dist"
   ]
  },
  {
   "cell_type": "code",
   "execution_count": 14,
   "metadata": {},
   "outputs": [],
   "source": [
    "class Operator:\n",
    "    def __init__(self,stratid):\n",
    "        self.strategy=strategy_ids[stratid]\n",
    "    def mutate(self,data:dict):\n",
    "        if self.strategy==0:\n",
    "            pass\n",
    "        elif self.strategy==1:\n",
    "            pass\n",
    "        elif self.strategy==2:\n",
    "            pass\n",
    "        elif self.strategy==3:\n",
    "            pass\n",
    "        elif self.strategy==4:\n",
    "            pass\n",
    "        elif self.strategy==5:\n",
    "            pass\n",
    "        elif self.strategy==6:\n",
    "            pass\n",
    "        elif self.strategy==7:\n",
    "            pass\n",
    "        elif self.strategy==8:\n",
    "            pass\n"
   ]
  },
  {
   "cell_type": "code",
   "execution_count": null,
   "metadata": {},
   "outputs": [],
   "source": [
    "\n",
    "    "
   ]
  },
  {
   "cell_type": "code",
   "execution_count": null,
   "metadata": {},
   "outputs": [],
   "source": []
  },
  {
   "cell_type": "code",
   "execution_count": null,
   "metadata": {},
   "outputs": [],
   "source": []
  }
 ],
 "metadata": {
  "kernelspec": {
   "display_name": "Python 3",
   "language": "python",
   "name": "python3"
  },
  "language_info": {
   "codemirror_mode": {
    "name": "ipython",
    "version": 3
   },
   "file_extension": ".py",
   "mimetype": "text/x-python",
   "name": "python",
   "nbconvert_exporter": "python",
   "pygments_lexer": "ipython3",
   "version": "3.11.9"
  }
 },
 "nbformat": 4,
 "nbformat_minor": 2
}
