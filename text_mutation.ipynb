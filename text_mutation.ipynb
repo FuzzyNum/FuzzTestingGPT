{
 "cells": [
  {
   "cell_type": "code",
   "execution_count": 1,
   "metadata": {},
   "outputs": [],
   "source": [
    "import sys\n",
    "sys.path.append(\"../../Library/Frameworks/Python.framework/Versions/3.11/lib/python3.11/site-packages\")"
   ]
  },
  {
   "cell_type": "code",
   "execution_count": 3,
   "metadata": {},
   "outputs": [],
   "source": [
    "class Dataset:\n",
    "    def __init__(self, data:dict,mutations=[]):\n",
    "        self._data=data\n",
    "        self._original=data\n",
    "        self._mutations=mutations\n",
    "    def reset_data(self):\n",
    "        self.data=self.original\n",
    "        self.mutations=[]\n",
    "    def addMutation(self,mutation_list:list):\n",
    "        self._mutations.append(mutation_list)\n",
    "    def keys(self):\n",
    "        return self._data.keys()\n",
    "    def values(self):\n",
    "        return self._data.values()\n",
    "    def items(self):\n",
    "        return self._data.items()"
   ]
  },
  {
   "cell_type": "code",
   "execution_count": null,
   "metadata": {},
   "outputs": [],
   "source": []
  },
  {
   "cell_type": "code",
   "execution_count": null,
   "metadata": {},
   "outputs": [],
   "source": []
  },
  {
   "cell_type": "code",
   "execution_count": null,
   "metadata": {},
   "outputs": [],
   "source": []
  }
 ],
 "metadata": {
  "kernelspec": {
   "display_name": "Python 3",
   "language": "python",
   "name": "python3"
  },
  "language_info": {
   "codemirror_mode": {
    "name": "ipython",
    "version": 3
   },
   "file_extension": ".py",
   "mimetype": "text/x-python",
   "name": "python",
   "nbconvert_exporter": "python",
   "pygments_lexer": "ipython3",
   "version": "3.11.9"
  }
 },
 "nbformat": 4,
 "nbformat_minor": 2
}
