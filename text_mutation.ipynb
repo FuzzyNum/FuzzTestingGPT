{
 "cells": [
  {
   "cell_type": "code",
   "execution_count": 11,
   "metadata": {},
   "outputs": [],
   "source": [
    "import sys\n",
    "sys.path.append(\"../../Library/Frameworks/Python.framework/Versions/3.11/lib/python3.11/site-packages\")"
   ]
  },
  {
   "cell_type": "code",
   "execution_count": 13,
   "metadata": {},
   "outputs": [],
   "source": [
    "from Levenshtein import distance as lev"
   ]
  },
  {
   "cell_type": "code",
   "execution_count": 4,
   "metadata": {},
   "outputs": [],
   "source": [
    "class Dataset:\n",
    "    def __init__(self, data:dict):\n",
    "        self._data=data\n",
    "        self._original=data\n",
    "    def reset_data(self):\n",
    "        self.data=self.original\n",
    "    def keys(self):\n",
    "        return self._data.keys()\n",
    "    def values(self):\n",
    "        return self._data.values()\n",
    "    def items(self):\n",
    "        return self._data.items()"
   ]
  },
  {
   "cell_type": "code",
   "execution_count": 7,
   "metadata": {},
   "outputs": [],
   "source": [
    "strategy_labels={0:\"random\",1:\"single_word_syn\",2:\"n_word_syn\",3:\"single_word_ant\",4:\"n_word_ant\",5:\"misspell\",6:\"reorder\",7:\"addition\",8:\"deletion\"}\n",
    "strategy_ids={\"random\":0,\"single_word_syn\":1,\"n_word_syn\":2,\"single_word_ant\":3,\"n_word_ant\":4,\"misspell\":5,\"reorder\":6,\"addition\":7,\"deletion\":8}"
   ]
  },
  {
   "cell_type": "code",
   "execution_count": 32,
   "metadata": {},
   "outputs": [],
   "source": [
    "class MutagenDataset(Dataset):\n",
    "    def __init__(self, data:dict, mutations=[], strategy=\"random\"):\n",
    "        super().__init__(data)\n",
    "        self._mutations=mutations\n",
    "        self._strategy=strategy\n",
    "        self._stratid=strategy_ids[strategy]\n",
    "    def reset_data(self):\n",
    "        super().reset_data()\n",
    "        self._mutations=[]\n",
    "    def appendMutations(self,mutation:list):\n",
    "        self._mutations.append(mutation)\n",
    "    def computeLevenshtein(self):\n",
    "        distances=[]\n",
    "        for i in range(0,len(self._data)):\n",
    "            distances.append(lev(self._original[i],self._data[i]))\n",
    "        average_dist=sum(distances)/len(self._data)\n",
    "        return distances,average_dist\n",
    "    def updateData(self,newData:dict):\n",
    "        self._data=newData\n"
   ]
  },
  {
   "cell_type": "code",
   "execution_count": 33,
   "metadata": {},
   "outputs": [
    {
     "ename": "KeyError",
     "evalue": "0",
     "output_type": "error",
     "traceback": [
      "\u001b[0;31m---------------------------------------------------------------------------\u001b[0m",
      "\u001b[0;31mKeyError\u001b[0m                                  Traceback (most recent call last)",
      "Cell \u001b[0;32mIn[33], line 3\u001b[0m\n\u001b[1;32m      1\u001b[0m example\u001b[38;5;241m=\u001b[39mMutagenDataset(data\u001b[38;5;241m=\u001b[39m{\u001b[38;5;124m\"\u001b[39m\u001b[38;5;124mable\u001b[39m\u001b[38;5;124m\"\u001b[39m:\u001b[38;5;124m\"\u001b[39m\u001b[38;5;124munable\u001b[39m\u001b[38;5;124m\"\u001b[39m,\u001b[38;5;124m\"\u001b[39m\u001b[38;5;124mkind\u001b[39m\u001b[38;5;124m\"\u001b[39m:\u001b[38;5;124m\"\u001b[39m\u001b[38;5;124mmean\u001b[39m\u001b[38;5;124m\"\u001b[39m})\n\u001b[1;32m      2\u001b[0m example\u001b[38;5;241m.\u001b[39mupdateData({\u001b[38;5;124m\"\u001b[39m\u001b[38;5;124munable\u001b[39m\u001b[38;5;124m\"\u001b[39m:\u001b[38;5;124m\"\u001b[39m\u001b[38;5;124mable\u001b[39m\u001b[38;5;124m\"\u001b[39m,\u001b[38;5;124m\"\u001b[39m\u001b[38;5;124munkind\u001b[39m\u001b[38;5;124m\"\u001b[39m:\u001b[38;5;124m\"\u001b[39m\u001b[38;5;124mkind\u001b[39m\u001b[38;5;124m\"\u001b[39m})\n\u001b[0;32m----> 3\u001b[0m \u001b[38;5;28mprint\u001b[39m(\u001b[43mexample\u001b[49m\u001b[38;5;241;43m.\u001b[39;49m\u001b[43mcomputeLevenshtein\u001b[49m\u001b[43m(\u001b[49m\u001b[43m)\u001b[49m)\n",
      "Cell \u001b[0;32mIn[32], line 15\u001b[0m, in \u001b[0;36mMutagenDataset.computeLevenshtein\u001b[0;34m(self)\u001b[0m\n\u001b[1;32m     13\u001b[0m distances\u001b[38;5;241m=\u001b[39m[]\n\u001b[1;32m     14\u001b[0m \u001b[38;5;28;01mfor\u001b[39;00m i \u001b[38;5;129;01min\u001b[39;00m \u001b[38;5;28mrange\u001b[39m(\u001b[38;5;241m0\u001b[39m,\u001b[38;5;28mlen\u001b[39m(\u001b[38;5;28mself\u001b[39m\u001b[38;5;241m.\u001b[39m_data)):\n\u001b[0;32m---> 15\u001b[0m     distances\u001b[38;5;241m.\u001b[39mappend(lev(\u001b[38;5;28;43mself\u001b[39;49m\u001b[38;5;241;43m.\u001b[39;49m\u001b[43m_original\u001b[49m\u001b[43m[\u001b[49m\u001b[43mi\u001b[49m\u001b[43m]\u001b[49m,\u001b[38;5;28mself\u001b[39m\u001b[38;5;241m.\u001b[39m_data[i]))\n\u001b[1;32m     16\u001b[0m average_dist\u001b[38;5;241m=\u001b[39m\u001b[38;5;28msum\u001b[39m(distances)\u001b[38;5;241m/\u001b[39m\u001b[38;5;28mlen\u001b[39m(\u001b[38;5;28mself\u001b[39m\u001b[38;5;241m.\u001b[39m_data)\n\u001b[1;32m     17\u001b[0m \u001b[38;5;28;01mreturn\u001b[39;00m distances,average_dist\n",
      "\u001b[0;31mKeyError\u001b[0m: 0"
     ]
    }
   ],
   "source": [
    "example=MutagenDataset(data={\"able\":\"unable\",\"kind\":\"mean\"})\n",
    "example.updateData({\"unable\":\"able\",\"unkind\":\"kind\"})\n",
    "print(example.computeLevenshtein())"
   ]
  }
 ],
 "metadata": {
  "kernelspec": {
   "display_name": "Python 3",
   "language": "python",
   "name": "python3"
  },
  "language_info": {
   "codemirror_mode": {
    "name": "ipython",
    "version": 3
   },
   "file_extension": ".py",
   "mimetype": "text/x-python",
   "name": "python",
   "nbconvert_exporter": "python",
   "pygments_lexer": "ipython3",
   "version": "3.11.9"
  }
 },
 "nbformat": 4,
 "nbformat_minor": 2
}
